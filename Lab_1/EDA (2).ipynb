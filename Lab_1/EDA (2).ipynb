{
 "cells": [
  {
   "cell_type": "code",
   "execution_count": 1,
   "id": "87e48c1e-d5f6-434c-817b-c465f7b41261",
   "metadata": {},
   "outputs": [],
   "source": [
    "import matplotlib.pyplot as plt\n",
    "import numpy as np\n",
    "import pandas as pd\n",
    "import seaborn as sns\n",
    "\n",
    "\n",
    "sns.set()"
   ]
  },
  {
   "cell_type": "code",
   "execution_count": 2,
   "id": "065fddea-4956-4dd8-beb5-ed35464ea8b4",
   "metadata": {},
   "outputs": [],
   "source": [
    "## Specify the dataset\n",
    "data = r'C:\\Users\\Student\\Downloads\\HTL_data.csv'"
   ]
  },
  {
   "cell_type": "code",
   "execution_count": 3,
   "id": "d2948264-f5db-4509-8063-f47611cce697",
   "metadata": {},
   "outputs": [],
   "source": [
    "## Import the data from the excel file\n",
    "df = pd.read_csv(data)\n"
   ]
  },
  {
   "cell_type": "code",
   "execution_count": 4,
   "id": "850812d3-bba9-4ef7-bad4-8f739506c0a6",
   "metadata": {},
   "outputs": [
    {
     "data": {
      "text/html": [
       "<div>\n",
       "<style scoped>\n",
       "    .dataframe tbody tr th:only-of-type {\n",
       "        vertical-align: middle;\n",
       "    }\n",
       "\n",
       "    .dataframe tbody tr th {\n",
       "        vertical-align: top;\n",
       "    }\n",
       "\n",
       "    .dataframe thead th {\n",
       "        text-align: right;\n",
       "    }\n",
       "</style>\n",
       "<table border=\"1\" class=\"dataframe\">\n",
       "  <thead>\n",
       "    <tr style=\"text-align: right;\">\n",
       "      <th></th>\n",
       "      <th>Bwr</th>\n",
       "      <th>Temp</th>\n",
       "      <th>Time</th>\n",
       "      <th>Pressure</th>\n",
       "      <th>Yield</th>\n",
       "    </tr>\n",
       "  </thead>\n",
       "  <tbody>\n",
       "    <tr>\n",
       "      <th>0</th>\n",
       "      <td>15.0</td>\n",
       "      <td>300.0</td>\n",
       "      <td>15.0</td>\n",
       "      <td>100</td>\n",
       "      <td>34.97</td>\n",
       "    </tr>\n",
       "    <tr>\n",
       "      <th>1</th>\n",
       "      <td>12.0</td>\n",
       "      <td>280.0</td>\n",
       "      <td>10.0</td>\n",
       "      <td>100</td>\n",
       "      <td>24.12</td>\n",
       "    </tr>\n",
       "    <tr>\n",
       "      <th>2</th>\n",
       "      <td>18.0</td>\n",
       "      <td>320.0</td>\n",
       "      <td>20.0</td>\n",
       "      <td>100</td>\n",
       "      <td>33.99</td>\n",
       "    </tr>\n",
       "    <tr>\n",
       "      <th>3</th>\n",
       "      <td>12.0</td>\n",
       "      <td>320.0</td>\n",
       "      <td>10.0</td>\n",
       "      <td>100</td>\n",
       "      <td>28.85</td>\n",
       "    </tr>\n",
       "    <tr>\n",
       "      <th>4</th>\n",
       "      <td>15.0</td>\n",
       "      <td>300.0</td>\n",
       "      <td>15.0</td>\n",
       "      <td>100</td>\n",
       "      <td>34.97</td>\n",
       "    </tr>\n",
       "  </tbody>\n",
       "</table>\n",
       "</div>"
      ],
      "text/plain": [
       "   Bwr    Temp   Time   Pressure   Yield\n",
       "0  15.0   300.0   15.0        100  34.97\n",
       "1  12.0   280.0   10.0        100  24.12\n",
       "2  18.0   320.0   20.0        100  33.99\n",
       "3  12.0   320.0   10.0        100  28.85\n",
       "4  15.0   300.0   15.0        100  34.97"
      ]
     },
     "execution_count": 4,
     "metadata": {},
     "output_type": "execute_result"
    }
   ],
   "source": [
    "## read the first five entries of the dataset\n",
    "df.head()"
   ]
  },
  {
   "cell_type": "code",
   "execution_count": 16,
   "id": "3e77335c-a1c7-4435-aedb-755822a2b9fb",
   "metadata": {},
   "outputs": [
    {
     "data": {
      "text/html": [
       "<div>\n",
       "<style scoped>\n",
       "    .dataframe tbody tr th:only-of-type {\n",
       "        vertical-align: middle;\n",
       "    }\n",
       "\n",
       "    .dataframe tbody tr th {\n",
       "        vertical-align: top;\n",
       "    }\n",
       "\n",
       "    .dataframe thead th {\n",
       "        text-align: right;\n",
       "    }\n",
       "</style>\n",
       "<table border=\"1\" class=\"dataframe\">\n",
       "  <thead>\n",
       "    <tr style=\"text-align: right;\">\n",
       "      <th></th>\n",
       "      <th>bwr</th>\n",
       "      <th>temp</th>\n",
       "      <th>time</th>\n",
       "      <th>pressure</th>\n",
       "      <th>yield</th>\n",
       "    </tr>\n",
       "  </thead>\n",
       "  <tbody>\n",
       "    <tr>\n",
       "      <th>count</th>\n",
       "      <td>60.000000</td>\n",
       "      <td>60.000000</td>\n",
       "      <td>60.00000</td>\n",
       "      <td>60.000000</td>\n",
       "      <td>60.000000</td>\n",
       "    </tr>\n",
       "    <tr>\n",
       "      <th>mean</th>\n",
       "      <td>13.373016</td>\n",
       "      <td>293.413333</td>\n",
       "      <td>25.42500</td>\n",
       "      <td>101.166667</td>\n",
       "      <td>29.151167</td>\n",
       "    </tr>\n",
       "    <tr>\n",
       "      <th>std</th>\n",
       "      <td>4.037500</td>\n",
       "      <td>37.725590</td>\n",
       "      <td>16.07947</td>\n",
       "      <td>25.384612</td>\n",
       "      <td>5.979858</td>\n",
       "    </tr>\n",
       "    <tr>\n",
       "      <th>min</th>\n",
       "      <td>5.000000</td>\n",
       "      <td>200.000000</td>\n",
       "      <td>5.00000</td>\n",
       "      <td>50.000000</td>\n",
       "      <td>11.300000</td>\n",
       "    </tr>\n",
       "    <tr>\n",
       "      <th>25%</th>\n",
       "      <td>10.000000</td>\n",
       "      <td>275.000000</td>\n",
       "      <td>15.00000</td>\n",
       "      <td>100.000000</td>\n",
       "      <td>26.750000</td>\n",
       "    </tr>\n",
       "    <tr>\n",
       "      <th>50%</th>\n",
       "      <td>13.000000</td>\n",
       "      <td>300.000000</td>\n",
       "      <td>20.00000</td>\n",
       "      <td>100.000000</td>\n",
       "      <td>29.615000</td>\n",
       "    </tr>\n",
       "    <tr>\n",
       "      <th>75%</th>\n",
       "      <td>15.000000</td>\n",
       "      <td>320.000000</td>\n",
       "      <td>35.00000</td>\n",
       "      <td>100.000000</td>\n",
       "      <td>32.985000</td>\n",
       "    </tr>\n",
       "    <tr>\n",
       "      <th>max</th>\n",
       "      <td>21.095238</td>\n",
       "      <td>400.000000</td>\n",
       "      <td>60.00000</td>\n",
       "      <td>180.000000</td>\n",
       "      <td>42.120000</td>\n",
       "    </tr>\n",
       "  </tbody>\n",
       "</table>\n",
       "</div>"
      ],
      "text/plain": [
       "             bwr        temp      time    pressure      yield\n",
       "count  60.000000   60.000000  60.00000   60.000000  60.000000\n",
       "mean   13.373016  293.413333  25.42500  101.166667  29.151167\n",
       "std     4.037500   37.725590  16.07947   25.384612   5.979858\n",
       "min     5.000000  200.000000   5.00000   50.000000  11.300000\n",
       "25%    10.000000  275.000000  15.00000  100.000000  26.750000\n",
       "50%    13.000000  300.000000  20.00000  100.000000  29.615000\n",
       "75%    15.000000  320.000000  35.00000  100.000000  32.985000\n",
       "max    21.095238  400.000000  60.00000  180.000000  42.120000"
      ]
     },
     "execution_count": 16,
     "metadata": {},
     "output_type": "execute_result"
    }
   ],
   "source": [
    "# obtain the statistics about the data\n",
    "df.describe()"
   ]
  },
  {
   "cell_type": "code",
   "execution_count": 17,
   "id": "c3a72bc7-277f-443e-8e85-3926ea829e41",
   "metadata": {},
   "outputs": [
    {
     "name": "stdout",
     "output_type": "stream",
     "text": [
      "<class 'pandas.core.frame.DataFrame'>\n",
      "RangeIndex: 60 entries, 0 to 59\n",
      "Data columns (total 5 columns):\n",
      " #   Column    Non-Null Count  Dtype  \n",
      "---  ------    --------------  -----  \n",
      " 0   bwr       60 non-null     float64\n",
      " 1   temp      60 non-null     float64\n",
      " 2   time      60 non-null     float64\n",
      " 3   pressure  60 non-null     int64  \n",
      " 4   yield     60 non-null     float64\n",
      "dtypes: float64(4), int64(1)\n",
      "memory usage: 2.5 KB\n"
     ]
    }
   ],
   "source": [
    "# obtain information about the variable types\n",
    "df.info()"
   ]
  },
  {
   "cell_type": "code",
   "execution_count": 20,
   "id": "f5709a06-a1e5-4c18-b61c-b495bc1d9fa7",
   "metadata": {},
   "outputs": [],
   "source": [
    "# define the features\n",
    "df.columns = df.columns.str.strip().str.lower()\n",
    "features = ['bwr', 'temp', 'time', 'pressure'] "
   ]
  },
  {
   "cell_type": "code",
   "execution_count": 19,
   "id": "40430d80-3d50-4af4-90f6-c13e1d9ff32c",
   "metadata": {},
   "outputs": [
    {
     "name": "stdout",
     "output_type": "stream",
     "text": [
      "Missing columns: []\n"
     ]
    }
   ],
   "source": [
    "# this code ensures that none of the columns should be missed to be read properly\n",
    "missing = [col for col in features if col not in df.columns]\n",
    "print(\"Missing columns:\", missing)"
   ]
  },
  {
   "cell_type": "code",
   "execution_count": 22,
   "id": "4bdfdc27-e690-45b5-8db1-1d29f046da9e",
   "metadata": {},
   "outputs": [
    {
     "data": {
      "text/plain": [
       "<Axes: xlabel='bwr', ylabel='Count'>"
      ]
     },
     "execution_count": 22,
     "metadata": {},
     "output_type": "execute_result"
    },
    {
     "data": {
      "image/png": "[encoded data removed]",
      "text/plain": [
       "<Figure size 640x480 with 1 Axes>"
      ]
     },
     "metadata": {},
     "output_type": "display_data"
    }
   ],
   "source": [
    "# plotting histograms\n",
    "sns.histplot(df.bwr)"
   ]
  },
  {
   "cell_type": "code",
   "execution_count": 24,
   "id": "d5ec4150-619c-4a2b-8dd6-c7ba5412667e",
   "metadata": {},
   "outputs": [],
   "source": [
    "# # # histogram plot along with the pdf\n",
    "from scipy.stats import norm"
   ]
  },
  {
   "cell_type": "code",
   "execution_count": 28,
   "id": "b76d597a-953b-490d-9101-5e3a48388148",
   "metadata": {},
   "outputs": [],
   "source": [
    "# Obtain the boxplot manually\n",
    "x = np.linspace(min(df.temp), max(df.temp), 1000)\n",
    "\n"
   ]
  },
  {
   "cell_type": "code",
   "execution_count": 30,
   "id": "a1c8ea2a-ce98-4fbd-aa76-05557ffed70b",
   "metadata": {},
   "outputs": [
    {
     "data": {
      "text/plain": [
       "[<matplotlib.lines.Line2D at 0x26c1e417110>]"
      ]
     },
     "execution_count": 30,
     "metadata": {},
     "output_type": "execute_result"
    },
    {
     "data": {
      "image/png": "[encoded data removed]",
      "text/plain": [
       "<Figure size 640x480 with 1 Axes>"
      ]
     },
     "metadata": {},
     "output_type": "display_data"
    }
   ],
   "source": [
    "mu = np.mean(df.temp)\n",
    "sigma = np.std(df.temp)\n",
    "\n",
    "y = norm.pdf(x , mu , sigma)\n",
    "\n",
    "plt.plot(x,y,color = \"red\")"
   ]
  },
  {
   "cell_type": "code",
   "execution_count": 29,
   "id": "a26092d8-f282-4e8b-8394-edda13d17c16",
   "metadata": {},
   "outputs": [
    {
     "data": {
      "text/plain": [
       "<seaborn.axisgrid.PairGrid at 0x26c1d1cde50>"
      ]
     },
     "execution_count": 29,
     "metadata": {},
     "output_type": "execute_result"
    },
    {
     "data": {
      "image/png": "[encoded data removed]",
      "text/plain": [
       "<Figure size 500x500 with 6 Axes>"
      ]
     },
     "metadata": {},
     "output_type": "display_data"
    }
   ],
   "source": [
    "#pairplots\n",
    "sns.pairplot(df[[\"time\",\"yield\"]])"
   ]
  },
  {
   "cell_type": "code",
   "execution_count": 23,
   "id": "5638d7f5-ef3d-490e-b1b8-64d7d44f5f1e",
   "metadata": {},
   "outputs": [
    {
     "data": {
      "text/plain": [
       "<matplotlib.collections.PathCollection at 0x26c1d174e10>"
      ]
     },
     "execution_count": 23,
     "metadata": {},
     "output_type": "execute_result"
    },
    {
     "data": {
      "image/png": "[encoded data removed]",
      "text/plain": [
       "<Figure size 640x480 with 1 Axes>"
      ]
     },
     "metadata": {},
     "output_type": "display_data"
    }
   ],
   "source": [
    "plt.scatter(df.bwr,df.temp)"
   ]
  },
  {
   "cell_type": "code",
   "execution_count": 14,
   "id": "bd8180d9-a213-476e-bed0-215173bc81dc",
   "metadata": {},
   "outputs": [],
   "source": [
    "# pairplots\n"
   ]
  },
  {
   "cell_type": "code",
   "execution_count": 15,
   "id": "30fc8458-b8c8-428e-a46f-ee8309d92383",
   "metadata": {},
   "outputs": [],
   "source": [
    "# correlation matrix to read covariance information among the variables"
   ]
  },
  {
   "cell_type": "code",
   "execution_count": null,
   "id": "3e83cb8b-16e9-43f5-bd7e-b3e0ff0a057f",
   "metadata": {},
   "outputs": [],
   "source": []
  },
  {
   "cell_type": "code",
   "execution_count": null,
   "id": "c37868d3-424d-46f1-828a-dd6f0ad4240a",
   "metadata": {},
   "outputs": [],
   "source": []
  }
 ],
 "metadata": {
  "kernelspec": {
   "display_name": "Python 3 (ipykernel)",
   "language": "python",
   "name": "python3"
  },
  "language_info": {
   "codemirror_mode": {
    "name": "ipython",
    "version": 3
   },
   "file_extension": ".py",
   "mimetype": "text/x-python",
   "name": "python",
   "nbconvert_exporter": "python",
   "pygments_lexer": "ipython3",
   "version": "3.13.5"
  }
 },
 "nbformat": 4,
 "nbformat_minor": 5
}
