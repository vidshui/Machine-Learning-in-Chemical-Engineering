{
 "cells": [
  {
   "cell_type": "code",
   "execution_count": 35,
   "id": "70802110-078d-45fa-9e5c-cf85eec71b07",
   "metadata": {},
   "outputs": [],
   "source": [
    "import matplotlib.pyplot as plt\n",
    "import numpy as np\n",
    "import pandas as pd\n",
    "import seaborn as sns\n",
    "from scipy import stats\n",
    "\n",
    "\n",
    "sns.set()"
   ]
  },
  {
   "cell_type": "code",
   "execution_count": 2,
   "id": "38102fad-fbb2-4758-81d6-2c205860accf",
   "metadata": {},
   "outputs": [],
   "source": [
    "## Specify the dataset\n",
    "data = r'C:\\Users\\Student\\Desktop\\Example_ML.csv'"
   ]
  },
  {
   "cell_type": "code",
   "execution_count": 3,
   "id": "fc1fd4f0-1933-4b32-b698-692a1c5723f2",
   "metadata": {},
   "outputs": [],
   "source": [
    "## Import the data from the excel file\n",
    "df = pd.read_csv(data)"
   ]
  },
  {
   "cell_type": "code",
   "execution_count": 4,
   "id": "fbeadcc9-7cc9-4cb6-8dd2-b17482f3441a",
   "metadata": {},
   "outputs": [
    {
     "data": {
      "text/html": [
       "<div>\n",
       "<style scoped>\n",
       "    .dataframe tbody tr th:only-of-type {\n",
       "        vertical-align: middle;\n",
       "    }\n",
       "\n",
       "    .dataframe tbody tr th {\n",
       "        vertical-align: top;\n",
       "    }\n",
       "\n",
       "    .dataframe thead th {\n",
       "        text-align: right;\n",
       "    }\n",
       "</style>\n",
       "<table border=\"1\" class=\"dataframe\">\n",
       "  <thead>\n",
       "    <tr style=\"text-align: right;\">\n",
       "      <th></th>\n",
       "      <th>FA</th>\n",
       "      <th>R</th>\n",
       "      <th>Age</th>\n",
       "      <th>Price</th>\n",
       "    </tr>\n",
       "  </thead>\n",
       "  <tbody>\n",
       "    <tr>\n",
       "      <th>0</th>\n",
       "      <td>280</td>\n",
       "      <td>3</td>\n",
       "      <td>7</td>\n",
       "      <td>8.9</td>\n",
       "    </tr>\n",
       "    <tr>\n",
       "      <th>1</th>\n",
       "      <td>140</td>\n",
       "      <td>2</td>\n",
       "      <td>5</td>\n",
       "      <td>2.3</td>\n",
       "    </tr>\n",
       "    <tr>\n",
       "      <th>2</th>\n",
       "      <td>225</td>\n",
       "      <td>2</td>\n",
       "      <td>6</td>\n",
       "      <td>7.0</td>\n",
       "    </tr>\n",
       "    <tr>\n",
       "      <th>3</th>\n",
       "      <td>300</td>\n",
       "      <td>4</td>\n",
       "      <td>4</td>\n",
       "      <td>9.2</td>\n",
       "    </tr>\n",
       "    <tr>\n",
       "      <th>4</th>\n",
       "      <td>180</td>\n",
       "      <td>2</td>\n",
       "      <td>3</td>\n",
       "      <td>3.4</td>\n",
       "    </tr>\n",
       "  </tbody>\n",
       "</table>\n",
       "</div>"
      ],
      "text/plain": [
       "    FA  R  Age  Price\n",
       "0  280  3    7    8.9\n",
       "1  140  2    5    2.3\n",
       "2  225  2    6    7.0\n",
       "3  300  4    4    9.2\n",
       "4  180  2    3    3.4"
      ]
     },
     "execution_count": 4,
     "metadata": {},
     "output_type": "execute_result"
    }
   ],
   "source": [
    "## read the first five entries of the dataset\n",
    "df.head()"
   ]
  },
  {
   "cell_type": "code",
   "execution_count": 9,
   "id": "96ed4326-46e4-40e9-a326-a401b425dbcf",
   "metadata": {},
   "outputs": [
    {
     "name": "stdout",
     "output_type": "stream",
     "text": [
      "[[280   3   7]\n",
      " [140   2   5]\n",
      " [225   2   6]\n",
      " [300   4   4]\n",
      " [180   2   3]\n",
      " [195   2   5]\n",
      " [305   4   2]\n",
      " [150   3   8]]\n",
      "[[  1. 280.   3.   7.]\n",
      " [  1. 140.   2.   5.]\n",
      " [  1. 225.   2.   6.]\n",
      " [  1. 300.   4.   4.]\n",
      " [  1. 180.   2.   3.]\n",
      " [  1. 195.   2.   5.]\n",
      " [  1. 305.   4.   2.]\n",
      " [  1. 150.   3.   8.]]\n"
     ]
    }
   ],
   "source": [
    "X = np.column_stack((df.FA,df.R,df.Age))\n",
    "print(X)\n",
    "\n",
    "#number of observations\n",
    "n = len(df.FA)\n",
    "\n",
    "#design matrix\n",
    "X_d = np.column_stack((np.ones(n),X))\n",
    "print(X_d)\n",
    "\n",
    "y = df.Price"
   ]
  },
  {
   "cell_type": "code",
   "execution_count": 11,
   "id": "fc3455b1-40ca-4182-b032-f887703b835a",
   "metadata": {},
   "outputs": [
    {
     "name": "stdout",
     "output_type": "stream",
     "text": [
      "[-4.93106243  0.04594962 -0.1294195   0.25837897]\n"
     ]
    }
   ],
   "source": [
    "#estimated values of beta\n",
    "beta_hat =np.linalg.inv(X_d.T@X_d)@X_d.T@y #matrix multiplication #linalg=library\n",
    "print(beta_hat) #estimators"
   ]
  },
  {
   "cell_type": "code",
   "execution_count": 15,
   "id": "e0d7fb69-3da7-4110-9a73-3aab519f3961",
   "metadata": {},
   "outputs": [
    {
     "name": "stdout",
     "output_type": "stream",
     "text": [
      "[9.35522453 2.53493976 6.69903614 9.36966046 3.85616648 5.06216867\n",
      " 9.0826506  3.64015334]\n"
     ]
    }
   ],
   "source": [
    "y_hat = X_d@beta_hat #predicted values of house price\n",
    "print(y_hat)"
   ]
  },
  {
   "cell_type": "code",
   "execution_count": 29,
   "id": "8c931906-7e95-4753-8da0-0e1d12571050",
   "metadata": {},
   "outputs": [
    {
     "name": "stdout",
     "output_type": "stream",
     "text": [
      "0   -0.455225\n",
      "1   -0.234940\n",
      "2    0.300964\n",
      "3   -0.169660\n",
      "4   -0.456166\n",
      "5    0.537831\n",
      "6    0.317349\n",
      "7    0.159847\n",
      "Name: Price, dtype: float64\n",
      "1.0054019715224507\n",
      "56.34\n",
      "0.9821547395895909\n",
      "0.3289978094194956\n",
      "0.12567524644030634\n",
      "0.12567524644030634\n"
     ]
    }
   ],
   "source": [
    "#residual\n",
    "residuals = y - y_hat\n",
    "print(residuals)\n",
    "\n",
    "#sum of squared residuals\n",
    "SSR = np.sum(residuals**2)\n",
    "print(SSR)\n",
    "\n",
    "#total sum of  squared errors\n",
    "SST = np.sum((y - np.mean(y))**2)\n",
    "print(SST)\n",
    "\n",
    "# coeff of determination\n",
    "R2 = 1 - (SSR/SST)\n",
    "print(R2) \n",
    "\n",
    "# mean absolute error\n",
    "MAE = np.mean(abs(residuals))\n",
    "print(MAE) # should be less than 0.5\n",
    "\n",
    "MSE = SSR/n\n",
    "print(MSE)\n",
    "\n",
    "# root mean square error\n",
    "RMSE = np.sqrt(MSE)\n",
    "print(MSE)"
   ]
  },
  {
   "cell_type": "code",
   "execution_count": 42,
   "id": "34c5d384-0f8a-4fa2-b122-dcef2f224e49",
   "metadata": {},
   "outputs": [
    {
     "data": {
      "text/plain": [
       "Text(0, 0.5, 'y predicted')"
      ]
     },
     "execution_count": 42,
     "metadata": {},
     "output_type": "execute_result"
    },
    {
     "data": {
      "image/png": "[encoded data removed]",
      "text/plain": [
       "<Figure size 640x480 with 1 Axes>"
      ]
     },
     "metadata": {},
     "output_type": "display_data"
    }
   ],
   "source": [
    "# parity plot\n",
    "plt.scatter(y , y_hat)\n",
    "plt.plot([y.min(),y.max()], [y_hat.min(), y_hat.max()], 'k--')\n",
    "plt.xlabel(\"y observed\")\n",
    "plt.ylabel(\"y predicted\")"
   ]
  },
  {
   "cell_type": "code",
   "execution_count": 30,
   "id": "8d137660-7725-4c26-ba5b-dd27ccc41a29",
   "metadata": {},
   "outputs": [
    {
     "name": "stdout",
     "output_type": "stream",
     "text": [
      "[[ 1.02626984e+00 -2.24425982e-03 -4.14604427e-02 -7.65779333e-02]\n",
      " [-2.24425982e-03  2.04384015e-05 -1.07477801e-03  1.33025803e-04]\n",
      " [-4.14604427e-02 -1.07477801e-03  1.05055146e-01 -1.79496738e-03]\n",
      " [-7.65779333e-02  1.33025803e-04 -1.79496738e-03  1.03997987e-02]]\n"
     ]
    }
   ],
   "source": [
    "# sigma_hat^2\n",
    "p = 4 # number of parameters to be estimated\n",
    "sigma2 = SSR/(n-p)\n",
    "\n",
    "#covariance matrix of beta\n",
    "cov_beta = sigma2*np.linalg.inv(X_d.T@X_d)\n",
    "print(cov_beta)"
   ]
  },
  {
   "cell_type": "code",
   "execution_count": 33,
   "id": "5cbb45b9-bc74-488a-8b2f-4d1acc8789b8",
   "metadata": {},
   "outputs": [
    {
     "name": "stdout",
     "output_type": "stream",
     "text": [
      "[1.01304977 0.00452089 0.32412212 0.1019794 ]\n"
     ]
    }
   ],
   "source": [
    "# standard errors in estimated beta_hat\n",
    "se_beta = np.sqrt(np.diag(cov_beta))\n",
    "print(se_beta)"
   ]
  },
  {
   "cell_type": "code",
   "execution_count": 37,
   "id": "ddb8e295-d73a-42cb-a390-3bdd97b3fe3c",
   "metadata": {},
   "outputs": [
    {
     "name": "stdout",
     "output_type": "stream",
     "text": [
      "2.7764451051977987\n"
     ]
    }
   ],
   "source": [
    "# critical t-score\n",
    "alpha = 0.05 # 95% confidence interval\n",
    "t_score = stats.t.ppf(1-alpha/2, n-p) # dof=n-p, ppf= percent point function\n",
    "print(t_score)"
   ]
  },
  {
   "cell_type": "code",
   "execution_count": 41,
   "id": "5da384e8-1064-4188-b7f9-485503fdea74",
   "metadata": {},
   "outputs": [
    {
     "name": "stdout",
     "output_type": "stream",
     "text": [
      "[[-7.74373952 -4.93106243 -2.11838535]\n",
      " [ 0.03339763  0.04594962  0.05850161]\n",
      " [-1.02932676 -0.1294195   0.77048776]\n",
      " [-0.02476124  0.25837897  0.54151919]]\n"
     ]
    }
   ],
   "source": [
    "# estimating the confidence intervals\n",
    "lb = beta_hat - t_score*se_beta\n",
    "ub = beta_hat + t_score*se_beta\n",
    "\n",
    "# confidence interval\n",
    "CI = np.column_stack((lb, beta_hat, ub))\n",
    "print(CI) # which of these are statistically significant? see sign change"
   ]
  },
  {
   "cell_type": "code",
   "execution_count": 48,
   "id": "8c76862a-3fa5-4aaf-a10d-602acf87e218",
   "metadata": {},
   "outputs": [
    {
     "name": "stdout",
     "output_type": "stream",
     "text": [
      "5.16249726177437\n"
     ]
    }
   ],
   "source": [
    "#floor area, room ,age\n",
    "def predict(FA,R,Age):\n",
    "    X_d = np.array([1,FA,R,Age])\n",
    "    y_pred = X_d@beta_hat\n",
    "    return y_pred\n",
    "\n",
    "\n",
    "y_new = predict(FA =200 , R =3 , Age =5 )\n",
    "print(y_new)"
   ]
  },
  {
   "cell_type": "code",
   "execution_count": null,
   "id": "4387f554-b036-4ccf-8cc1-f73eaee6c5c4",
   "metadata": {},
   "outputs": [],
   "source": []
  },
  {
   "cell_type": "code",
   "execution_count": null,
   "id": "61b2e330-2a2e-45ac-8c00-10d4b0c360d9",
   "metadata": {},
   "outputs": [],
   "source": []
  },
  {
   "cell_type": "code",
   "execution_count": null,
   "id": "202fa816-b417-407c-895b-41f3ef03e6e0",
   "metadata": {},
   "outputs": [],
   "source": []
  }
 ],
 "metadata": {
  "kernelspec": {
   "display_name": "Python [conda env:base] *",
   "language": "python",
   "name": "conda-base-py"
  },
  "language_info": {
   "codemirror_mode": {
    "name": "ipython",
    "version": 3
   },
   "file_extension": ".py",
   "mimetype": "text/x-python",
   "name": "python",
   "nbconvert_exporter": "python",
   "pygments_lexer": "ipython3",
   "version": "3.13.5"
  }
 },
 "nbformat": 4,
 "nbformat_minor": 5
}
