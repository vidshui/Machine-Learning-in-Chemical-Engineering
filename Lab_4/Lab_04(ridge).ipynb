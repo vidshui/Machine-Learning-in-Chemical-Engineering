{
 "cells": [
  {
   "cell_type": "code",
   "execution_count": 1,
   "id": "afb74b95-5294-4615-b289-4d361dc9cf20",
   "metadata": {},
   "outputs": [],
   "source": [
    "import matplotlib.pyplot as plt\n",
    "import numpy as np\n",
    "import pandas as pd\n",
    "import seaborn as sns\n",
    "from scipy import stats\n",
    "from sklearn.model_selection import train_test_split"
   ]
  },
  {
   "cell_type": "code",
   "execution_count": 2,
   "id": "8afc7dfb-1dc5-4087-9e81-1e9d9da85051",
   "metadata": {},
   "outputs": [
    {
     "name": "stdout",
     "output_type": "stream",
     "text": [
      "[[1. 0. 0. 0. 0.]\n",
      " [0. 1. 0. 0. 0.]\n",
      " [0. 0. 1. 0. 0.]\n",
      " [0. 0. 0. 1. 0.]\n",
      " [0. 0. 0. 0. 1.]]\n",
      "[[0. 0. 0. 0. 0.]\n",
      " [0. 1. 0. 0. 0.]\n",
      " [0. 0. 1. 0. 0.]\n",
      " [0. 0. 0. 1. 0.]\n",
      " [0. 0. 0. 0. 1.]]\n"
     ]
    }
   ],
   "source": [
    "#no. of observations\n",
    "n = 100\n",
    "\n",
    "#between 0to 5 we are generating samples\n",
    "X = np.linspace(0,5,n)\n",
    "\n",
    "#observed data poitns\n",
    "y_true = 3 + 2*X -0.5*X**2 + 0.1*X**3 - 0.05*X**4\n",
    "\n",
    "#observations corrupted with noise(0 mean and 0.5 variance)\n",
    "y = y_true + np.random.normal(0, 0.5, size = n)\n",
    "\n",
    "\n",
    "X_features = np.column_stack([X, X**2, X**3, X**4])\n",
    "\n",
    "\n",
    "X_train, X_test, y_train, y_test = train_test_split(X,y,test_size = 0.3, random_state = 40)\n",
    "\n",
    "# X_train.shape\n",
    "\n",
    "# #normalising/scaling the input features with 0 mean and unit std deviation\n",
    "\n",
    "mean_train = X_train.mean(axis = 0)\n",
    "std_train = X_train.std(axis = 0, ddof = 0)\n",
    "\n",
    "X_train_scaled = (X_train - mean_train)/std_train\n",
    "\n",
    "# print(X_train_scaled)\n",
    "\n",
    "#gives all scaled input features with 0 mean and 1 std deviation\n",
    "\n",
    "X_scaled = np.column_stack([X_train_scaled, X_train_scaled**2, X_train_scaled**3, X_train_scaled**4])\n",
    "\n",
    "\n",
    "#check the dimesnion of the scaled input feature's matrix\n",
    "X_scaled.shape\n",
    "\n",
    "#design matric for the scaled training inputs\n",
    "X_d = np.column_stack([np.ones((len(X_scaled))), X_scaled])\n",
    "\n",
    "X_d.shape\n",
    "\n",
    "#identity matrix comprising of slopes only \n",
    "\n",
    "I = np.eye(X_d.shape[1])\n",
    "print(I)\n",
    "\n",
    "#penalise the slopes only and not the intercepts\n",
    "\n",
    "I[0,0] = 0\n",
    "print(I)\n"
   ]
  },
  {
   "cell_type": "code",
   "execution_count": 3,
   "id": "74d14772-ea46-44a7-ae77-b98dd8ebe899",
   "metadata": {},
   "outputs": [
    {
     "data": {
      "text/plain": [
       "[<matplotlib.lines.Line2D at 0x1616ed03890>]"
      ]
     },
     "execution_count": 3,
     "metadata": {},
     "output_type": "execute_result"
    },
    {
     "data": {
      "image/png": "[encoded data removed]",
      "text/plain": [
       "<Figure size 640x480 with 1 Axes>"
      ]
     },
     "metadata": {},
     "output_type": "display_data"
    }
   ],
   "source": [
    "#penality parameter\n",
    "lamda = 0.5\n",
    "\n",
    "#least sqaured estimates for ridge regression\n",
    "beta_ridge = np.linalg.inv(X_d.T@X_d + lamda*I)@X_d.T@y_train\n",
    "\n",
    "# print(beta_ridge)\n",
    "\n",
    "#predicted y based on the scaled X_train\n",
    "\n",
    "y_pred_train = X_d@beta_ridge\n",
    "# len(y_presd_train)\n",
    "\n",
    "plt.scatter(y_pred_train, y_train)\n",
    "plt.plot([y_pred_train.min(), y_pred_train.max()], [y_train.min(), y_train.max()], 'k--')\n"
   ]
  },
  {
   "cell_type": "code",
   "execution_count": 4,
   "id": "ff13604c-7302-4960-b5c2-61f5a723c0f5",
   "metadata": {},
   "outputs": [
    {
     "name": "stdout",
     "output_type": "stream",
     "text": [
      " R2_train: 0.9947726415306394\n"
     ]
    }
   ],
   "source": [
    "#residuals based on the scaled traning inputs\n",
    "\n",
    "residual_train = (y_pred_train - y_train)\n",
    "\n",
    "SSR_train = np.sum(residual_train**2)\n",
    "SST_train = np.sum((y_train - np.mean(y_train))**2)\n",
    "\n",
    "R2_train = 1 - (SSR_train/ SST_train)\n",
    "print(f\" R2_train: {R2_train}\")\n",
    "\n",
    "\n",
    "\n",
    "\n",
    "\n"
   ]
  },
  {
   "cell_type": "code",
   "execution_count": null,
   "id": "fa5f13fc-8b98-4a71-895c-6ea72fb8ce1f",
   "metadata": {},
   "outputs": [],
   "source": []
  },
  {
   "cell_type": "code",
   "execution_count": null,
   "id": "351b610b-2f55-45bf-990f-3a6dad814225",
   "metadata": {},
   "outputs": [],
   "source": []
  }
 ],
 "metadata": {
  "kernelspec": {
   "display_name": "Python 3 (ipykernel)",
   "language": "python",
   "name": "python3"
  },
  "language_info": {
   "codemirror_mode": {
    "name": "ipython",
    "version": 3
   },
   "file_extension": ".py",
   "mimetype": "text/x-python",
   "name": "python",
   "nbconvert_exporter": "python",
   "pygments_lexer": "ipython3",
   "version": "3.13.5"
  }
 },
 "nbformat": 4,
 "nbformat_minor": 5
}
